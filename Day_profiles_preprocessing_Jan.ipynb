{
 "cells": [
  {
   "cell_type": "markdown",
   "metadata": {},
   "source": [
    "# Generating Day profiles from seasonal profiles\n",
    "Please extract the seasonal data from CKW's monthly data as done in CKW.ipynb"
   ]
  },
  {
   "cell_type": "code",
   "execution_count": 1,
   "metadata": {},
   "outputs": [],
   "source": [
    "import polars as pl\n",
    "import glob\n",
    "import re\n",
    "from pathlib import Path\n",
    "import os\n",
    "from datetime import datetime\n",
    "\n",
    "timestamp_range = pl.datetime_range(datetime(2024, 1, 1), datetime(2024, 12, 31), \"1d\", eager=True).cast(pl.Date)\n",
    "\n"
   ]
  },
  {
   "cell_type": "code",
   "execution_count": 2,
   "metadata": {},
   "outputs": [],
   "source": [
    "input_folder = Path(\"/Users/jansigrist/Documents/SP/Customer_Segmentation_Lantern/DATA/SM_DATA_cleaned\")\n",
    "output_folder = Path(\"/Users/jansigrist/Documents/SP/Customer_Segmentation_Lantern/DATA/SM_DATA_daily\")\n",
    "output_folder.mkdir(parents=True, exist_ok=True)\n",
    "\n",
    "pattern = str(input_folder / \"*CH*.csv\")\n",
    "file_paths = glob.glob(pattern)\n",
    "\n",
    "def day_avg_preprocess(df):\n",
    "    # Parse the timestamp column (assuming 'timestamp' column exists)\n",
    "    df = df.with_columns(\n",
    "        pl.col(\"zeitpunkt\").str.strptime(pl.Datetime, format=\"%Y-%m-%dT%H:%M:%S%z\", strict=False).alias(\"zeitpunkt_dt\")\n",
    "    )\n",
    "    # Extract time_of_day (hour, minute) as time component\n",
    "    df = df.with_columns(\n",
    "        pl.col(\"zeitpunkt_dt\").dt.time().alias(\"time_of_day\")\n",
    "    )\n",
    "    # Group by time_of_day across all days in the range and average the energy column\n",
    "    day_avg = (\n",
    "        df.group_by(\"time_of_day\")\n",
    "          .agg(pl.col(\"bruttolastgang_kwh\").mean().alias(\"day_avg_bruttolastgang_kwh\"))\n",
    "          .sort(\"time_of_day\")\n",
    "    )\n",
    "    return day_avg\n",
    "\n",
    "def normalize(df):\n",
    "    \"\"\" Normalize the 'day_avg_bruttolastgang_kwh' column by its max value and overwrite the original column \"\"\"\n",
    "    max_val = df.select(pl.max(\"day_avg_bruttolastgang_kwh\"))['day_avg_bruttolastgang_kwh'][0]\n",
    "    \n",
    "    if max_val == 0:\n",
    "        # Avoid division by zero, leave values unchanged\n",
    "        df = df.with_columns(\n",
    "            pl.col(\"day_avg_bruttolastgang_kwh\")\n",
    "        )\n",
    "    else:\n",
    "        # Overwrite original column with normalized values\n",
    "        df = df.with_columns(\n",
    "            (pl.col(\"day_avg_bruttolastgang_kwh\") / max_val).alias(\"day_avg_bruttolastgang_kwh\")\n",
    "        )\n",
    "    \n",
    "    return df\n",
    "\n",
    "for file_path in file_paths:\n",
    "    df = pl.read_csv(file_path)\n",
    "    day_avg = day_avg_preprocess(df)\n",
    "    day_avg = normalize(day_avg)\n",
    "    \n",
    "    filename = os.path.basename(file_path)  # Original file name\n",
    "    output_file = output_folder / filename  # Output path with same filename\n",
    "    \n",
    "    day_avg.write_csv(output_file)"
   ]
  }
 ],
 "metadata": {
  "kernelspec": {
   "display_name": "MLDA",
   "language": "python",
   "name": "python3"
  },
  "language_info": {
   "codemirror_mode": {
    "name": "ipython",
    "version": 3
   },
   "file_extension": ".py",
   "mimetype": "text/x-python",
   "name": "python",
   "nbconvert_exporter": "python",
   "pygments_lexer": "ipython3",
   "version": "3.12.11"
  }
 },
 "nbformat": 4,
 "nbformat_minor": 4
}
