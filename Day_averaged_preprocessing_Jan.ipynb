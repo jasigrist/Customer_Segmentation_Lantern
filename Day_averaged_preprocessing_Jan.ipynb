{
 "cells": [
  {
   "cell_type": "markdown",
   "metadata": {},
   "source": [
    "# Day-Averaged Yearly files\n",
    "\n",
    "The average (mean) of energy consumed in a day is calculated for per season then appended together"
   ]
  },
  {
   "cell_type": "code",
   "execution_count": 7,
   "metadata": {},
   "outputs": [],
   "source": [
    "import polars as pl\n",
    "import glob\n",
    "import re\n",
    "from pathlib import Path\n",
    "import os\n",
    "from datetime import datetime"
   ]
  },
  {
   "cell_type": "code",
   "execution_count": 8,
   "metadata": {},
   "outputs": [],
   "source": [
    "# Create a date range for the entire year of 2024\n",
    "timestamp_range = pl.datetime_range(datetime(2024, 1, 1), datetime(2024, 12, 31), \"1d\", eager=True).cast(pl.Date)"
   ]
  },
  {
   "cell_type": "code",
   "execution_count": 9,
   "metadata": {},
   "outputs": [],
   "source": [
    "def day_avg_preprocess(df, timestamp_range):\n",
    "    \n",
    "    df = df.with_columns(\n",
    "        pl.col(\"zeitpunkt\").str.strptime(pl.Datetime, format=\"%Y-%m-%dT%H:%M:%S%z\", strict=False).alias(\"zeitpunkt_dt\")\n",
    "    )\n",
    "    \n",
    "    df = df.with_columns(\n",
    "        pl.col(\"zeitpunkt_dt\").dt.date().alias(\"date\")\n",
    "    )\n",
    "\n",
    "    date_list = timestamp_range.to_list()\n",
    "\n",
    "    day_avg = (\n",
    "        df.filter(pl.col(\"date\").is_in(date_list))\n",
    "          .group_by(\"date\")\n",
    "          .agg(pl.col(\"bruttolastgang_kwh\").mean().alias(\"day_avg_bruttolastgang_kwh\"))\n",
    "          .sort(\"date\")\n",
    "    )\n",
    "    return day_avg"
   ]
  },
  {
   "cell_type": "code",
   "execution_count": 10,
   "metadata": {},
   "outputs": [],
   "source": [
    "# Define the output directory\n",
    "output_dir = Path(\"/Users/jansigrist/Documents/SP/Customer_Segmentation_Lantern/DATA/SM_DATA_day_avg\")\n",
    "output_dir.mkdir(parents=True, exist_ok=True)\n",
    "\n",
    "pattern = \"/Users/jansigrist/Documents/SP/Customer_Segmentation_Lantern/DATA/SM_DATA_cleaned/*CH*.csv\"\n",
    "file_paths = glob.glob(pattern)\n",
    "\n",
    "for file_path in file_paths:\n",
    "    df = pl.read_csv(file_path)\n",
    "    day_avg = day_avg_preprocess(df, timestamp_range)\n",
    "    \n",
    "    filename = os.path.basename(file_path)  # gets file name with extension\n",
    "    output_file = output_dir / filename      # construct output path\n",
    "    \n",
    "    day_avg.write_csv(output_file)"
   ]
  },
  {
   "cell_type": "markdown",
   "metadata": {},
   "source": [
    "# Normalizing"
   ]
  },
  {
   "cell_type": "code",
   "execution_count": 11,
   "metadata": {},
   "outputs": [],
   "source": [
    "def normalize(df):\n",
    "    \"\"\" Normalize the 'day_avg_bruttolastgang_kwh' column by its max value and overwrite the original column \"\"\"\n",
    "    \n",
    "    max_val = df.select(pl.max(\"day_avg_bruttolastgang_kwh\"))['day_avg_bruttolastgang_kwh'][0]\n",
    "    \n",
    "    if max_val == 0:\n",
    "        # Avoid division by zero, leave values unchanged\n",
    "        df = df.with_columns(\n",
    "            pl.col(\"day_avg_bruttolastgang_kwh\")\n",
    "        )\n",
    "    else:\n",
    "        # Overwrite original column with normalized values\n",
    "        df = df.with_columns(\n",
    "            (pl.col(\"day_avg_bruttolastgang_kwh\") / max_val).alias(\"day_avg_bruttolastgang_kwh\")\n",
    "        )\n",
    "    \n",
    "    df = df.sort(\"date\")\n",
    "    \n",
    "    return df\n"
   ]
  },
  {
   "cell_type": "code",
   "execution_count": 12,
   "metadata": {},
   "outputs": [],
   "source": [
    "# Define the new folder for normalized data\n",
    "\n",
    "output_dir = Path(\"/Users/jansigrist/Documents/SP/Customer_Segmentation_Lantern/DATA/SM_DATA_day_avg_normalized\")\n",
    "output_dir.mkdir(parents=True, exist_ok=True)\n",
    "\n",
    "pattern = str(output_dir / \"/*CH*.csv\")\n",
    "file_paths = glob.glob(pattern)\n",
    "\n",
    "for file_path in file_paths:\n",
    "    df = pl.read_csv(file_path)\n",
    "    normalized_df = normalize(df)\n",
    "\n",
    "    # Get original file name\n",
    "    original_file_name = Path(file_path).name\n",
    "\n",
    "    # Define output path keeping the same file name\n",
    "    output_file = output_dir / original_file_name\n",
    "    normalized_df.write_csv(output_file)"
   ]
  }
 ],
 "metadata": {
  "kernelspec": {
   "display_name": "MLDA",
   "language": "python",
   "name": "python3"
  },
  "language_info": {
   "codemirror_mode": {
    "name": "ipython",
    "version": 3
   },
   "file_extension": ".py",
   "mimetype": "text/x-python",
   "name": "python",
   "nbconvert_exporter": "python",
   "pygments_lexer": "ipython3",
   "version": "3.12.11"
  }
 },
 "nbformat": 4,
 "nbformat_minor": 4
}
