{
 "cells": [
  {
   "cell_type": "code",
   "execution_count": 1,
   "id": "84e109cc",
   "metadata": {},
   "outputs": [],
   "source": [
    "import pandas as pd\n",
    "\n",
    "import polars as pl\n",
    "import re\n",
    "import glob\n",
    "import numpy as np\n",
    "import os\n",
    "import matplotlib.pyplot as plt\n",
    "import logging\n",
    "from datetime import date, datetime\n",
    "from datetime import timedelta\n",
    "\n",
    "from tslearn.clustering import TimeSeriesKMeans \n",
    "from sklearn.metrics import silhouette_score\n",
    "from sklearn.metrics import davies_bouldin_score, calinski_harabasz_score\n",
    "from sklearn.cluster import KMeans\n",
    "\n",
    "logging.getLogger('matplotlib.font_manager').disabled = True\n",
    "\n"
   ]
  },
  {
   "cell_type": "code",
   "execution_count": 4,
   "id": "0cd1abb1",
   "metadata": {},
   "outputs": [],
   "source": [
    "key_path = \"/Users/jansigrist/Documents/SP/Customer-_Segmentation_CKW/DATA/Survey_Data/00_SWW_ID_smartmeter.xlsx\"\n",
    "key_df = pd.read_excel(key_path, header=None)\n",
    "\n",
    "# Load the Excel file\n",
    "file_path = \"/Users/jansigrist/Documents/SP/Customer-_Segmentation_CKW/DATA/Survey_Data/Survey_Data.xlsx\"\n",
    "# Read without headers, so columns are numbered 0,1,2,...\n",
    "df = pd.read_excel(file_path, skiprows=4, nrows=1500, header=None)\n",
    "\n",
    "# Now columns 10 and 131 correspond to Excel columns K and Q exactly (0-based)\n",
    "cols_to_extract = [10, 131]\n",
    "extracted_df = df.iloc[:, cols_to_extract]\n",
    "\n",
    "# Assign your own headers\n",
    "extracted_df.columns = ['house-id', 'tenant type']\n",
    "\n",
    "#print(extracted_df)\n",
    "\n",
    "# Save extracted columns to a new Excel or CSV file if needed\n",
    "\n",
    "#extracted_df.to_csv(\"extracted_columns.csv\", index=False)"
   ]
  },
  {
   "cell_type": "code",
   "execution_count": 5,
   "id": "cf0cbdc9",
   "metadata": {
    "vscode": {
     "languageId": "ruby"
    }
   },
   "outputs": [
    {
     "name": "stdout",
     "output_type": "stream",
     "text": [
      "   house-id tenant type                              CH_id\n",
      "0     10015      Tenant  CH1018601234500000000000000106795\n",
      "1     10030         NaN  CH1018601234500000000000000106801\n",
      "2     10135      Tenant  CH1018601234500000000000000106840\n",
      "3     10207         NaN  CH1018601234500000000000000107070\n",
      "4     10219      Tenant  CH1018601234500000000000000107076\n"
     ]
    },
    {
     "name": "stderr",
     "output_type": "stream",
     "text": [
      "/var/folders/db/p0yj0j2s77j2q7kn7qv0ns640000gn/T/ipykernel_76670/1723262949.py:7: SettingWithCopyWarning: \n",
      "A value is trying to be set on a copy of a slice from a DataFrame.\n",
      "Try using .loc[row_indexer,col_indexer] = value instead\n",
      "\n",
      "See the caveats in the documentation: https://pandas.pydata.org/pandas-docs/stable/user_guide/indexing.html#returning-a-view-versus-a-copy\n",
      "  extracted_df.loc[:, 'CH_id'] = extracted_df['house-id'].map(mapping)\n"
     ]
    }
   ],
   "source": [
    "\n",
    "# Column 1 (index 0) has original house IDs, column 2 (index 1) has CH... identifiers\n",
    "# Create a mapping dict: {house_id: CH_id}\n",
    "mapping = dict(zip(key_df.iloc[:,0], key_df.iloc[:,2]))\n",
    "\n",
    "# Map 'house-id' in extracted_df to 'CH...' values\n",
    "# Safely assign new column using .loc to avoid SettingWithCopyWarning\n",
    "extracted_df.loc[:, 'CH_id'] = extracted_df['house-id'].map(mapping)\n",
    "\n",
    "print(extracted_df.head())\n"
   ]
  },
  {
   "cell_type": "code",
   "execution_count": 6,
   "id": "36511708",
   "metadata": {},
   "outputs": [
    {
     "name": "stdout",
     "output_type": "stream",
     "text": [
      "Shape of the 3D array: (1464, 96, 1)\n",
      "['CH1018601234500000000000000040851', 'CH1018601234500000000000000047828', 'CH1018601234500000000000000112970', 'CH1018601234500000000000000076787', 'CH1018601234500000000000000067786', 'CH1018601234500000000000000036798', 'CH1018601234500000000000000065363', 'CH1018601234500000000000000065862', 'CH1018601234500000000000000024655', 'CH1018601234500000000000000070197']\n"
     ]
    }
   ],
   "source": [
    "pattern = f\"{r'DATA/SM_DATA_average_min'}/*CH*.csv\"\n",
    "file_paths = glob.glob(pattern)\n",
    "\n",
    "n_timestamps = 96\n",
    "\n",
    "data_list = []\n",
    "filename_list = []\n",
    "\n",
    "pattern = re.compile(r\"(CH[^_\\.]*)\")  # Matches 'CH' followed by any chars except _ or .\n",
    "\n",
    "for idx, file_path in enumerate(file_paths):\n",
    "    df = pl.read_csv(file_path)\n",
    "    if len(df) == n_timestamps:\n",
    "        values_array = df[\"day_avg_bruttolastgang_kwh\"].to_numpy().reshape((1, n_timestamps, 1))\n",
    "        data_list.append(values_array)\n",
    "        \n",
    "        base = os.path.basename(file_path)\n",
    "        match = pattern.search(base)\n",
    "        if match:\n",
    "            filename_list.append(match.group(1))\n",
    "        else:\n",
    "            filename_list.append(base)  # fallback to full basename if no CH... found\n",
    "\n",
    "if data_list:\n",
    "    data_3d = np.concatenate(data_list, axis=0)\n",
    "    print(f\"Shape of the 3D array: {data_3d.shape}\")\n",
    "\n",
    "print(filename_list[:10])  # Preview first 10 extracted CH... names"
   ]
  },
  {
   "cell_type": "code",
   "execution_count": 7,
   "id": "16c94f07",
   "metadata": {},
   "outputs": [
    {
     "name": "stdout",
     "output_type": "stream",
     "text": [
      "0.300 --> 0.185 --> 0.179 --> 0.176 --> 0.175 --> 0.174 --> 0.174 --> 0.173 --> 0.173 --> 0.172 --> 0.171 --> 0.171 --> 0.170 --> 0.170 --> 0.170 --> 0.170 --> 0.170 --> \n"
     ]
    }
   ],
   "source": [
    "train_data = data_3d\n",
    "\n",
    "n_clusters = 7  # Number of clusters, you can adjust this\n",
    "max_iterations =100\n",
    "\n",
    "kmeans = TimeSeriesKMeans(n_clusters=n_clusters,max_iter=max_iterations, verbose=True, random_state=42, n_jobs=-1)\n",
    "clusters_train = kmeans.fit_predict(train_data)"
   ]
  },
  {
   "cell_type": "code",
   "execution_count": 8,
   "id": "f41a7b99",
   "metadata": {},
   "outputs": [
    {
     "name": "stdout",
     "output_type": "stream",
     "text": [
      "\n",
      "Cluster Indices DataFrame:\n",
      "shape: (5, 2)\n",
      "┌─────────┬───────┐\n",
      "│ cluster ┆ index │\n",
      "│ ---     ┆ ---   │\n",
      "│ i64     ┆ i64   │\n",
      "╞═════════╪═══════╡\n",
      "│ 1       ┆ 1     │\n",
      "│ 1       ┆ 2     │\n",
      "│ 1       ┆ 4     │\n",
      "│ 1       ┆ 5     │\n",
      "│ 1       ┆ 6     │\n",
      "└─────────┴───────┘\n"
     ]
    }
   ],
   "source": [
    "# Initialize an empty list to store individual DataFrames for each cluster\n",
    "cluster_dataframes = []\n",
    "\n",
    "for cluster_idx in range(n_clusters):\n",
    "    # Get all indices in this cluster\n",
    "    cluster_indices = np.where(clusters_train == cluster_idx)[0]\n",
    "    \n",
    "    # Create a Polars DataFrame for the current cluster's indices\n",
    "    cluster_df = pl.DataFrame({\n",
    "        \"cluster\": pl.Series([cluster_idx + 1] * len(cluster_indices)),\n",
    "        \"index\": pl.Series(cluster_indices)\n",
    "    })\n",
    "    \n",
    "    # Append this cluster DataFrame to the list\n",
    "    cluster_dataframes.append(cluster_df)\n",
    "\n",
    "# Concatenate all cluster DataFrames into one\n",
    "cluster_indices_df = pl.concat(cluster_dataframes)\n",
    "\n",
    "# Print the DataFrame to verify\n",
    "print(\"\\nCluster Indices DataFrame:\")\n",
    "print(cluster_indices_df.head())"
   ]
  },
  {
   "cell_type": "code",
   "execution_count": 15,
   "id": "b6a52608",
   "metadata": {},
   "outputs": [
    {
     "name": "stdout",
     "output_type": "stream",
     "text": [
      "Final joined DataFrame with tenant type:\n",
      "shape: (5, 3)\n",
      "┌─────────────────────────────────┬─────────┬─────────────┐\n",
      "│ house_id                        ┆ cluster ┆ tenant type │\n",
      "│ ---                             ┆ ---     ┆ ---         │\n",
      "│ str                             ┆ i64     ┆ str         │\n",
      "╞═════════════════════════════════╪═════════╪═════════════╡\n",
      "│ CH1018601234500000000000000040… ┆ 7       ┆ null        │\n",
      "│ CH1018601234500000000000000047… ┆ 1       ┆ Owner       │\n",
      "│ CH1018601234500000000000000112… ┆ 1       ┆ Tenant      │\n",
      "│ CH1018601234500000000000000112… ┆ 1       ┆ Tenant      │\n",
      "│ CH1018601234500000000000000076… ┆ 7       ┆ Tenant      │\n",
      "└─────────────────────────────────┴─────────┴─────────────┘\n"
     ]
    }
   ],
   "source": [
    "# Convert filename_list items to strings if not already\n",
    "house_ids = [str(h) for h in filename_list]\n",
    "\n",
    "# Create Polars DataFrame with house IDs and clusters\n",
    "result_df = pl.DataFrame({\n",
    "    \"house_id\": house_ids,\n",
    "    \"cluster\": clusters_train + 1  # adjust if needed\n",
    "})\n",
    "\n",
    "extracted_pl_df = pl.from_pandas(extracted_df)\n",
    "\n",
    "# Assume extracted_pl_df has a column named 'CH_id' that matches result_df['house_id']\n",
    "# Normalize keys in both DataFrames for clean join\n",
    "extracted_pl_df = extracted_pl_df.with_columns(\n",
    "    pl.col(\"CH_id\").cast(pl.Utf8).str.strip_chars().str.to_lowercase().alias(\"ch_id_clean\")\n",
    ")\n",
    "\n",
    "result_df = result_df.with_columns(\n",
    "    pl.col(\"house_id\").cast(pl.Utf8).str.strip_chars().str.to_lowercase().alias(\"ch_id_clean\")\n",
    ")\n",
    "\n",
    "# Join on the cleaned CH_id keys, selecting heating type\n",
    "final_df = result_df.join(\n",
    "    extracted_pl_df.select([\"ch_id_clean\", \"tenant type\"]),\n",
    "    left_on=\"ch_id_clean\",\n",
    "    right_on=\"ch_id_clean\",\n",
    "    how=\"left\"\n",
    ").select([\n",
    "    \"house_id\",      # Original CH id from result_df\n",
    "    \"cluster\",\n",
    "    \"tenant type\"\n",
    "])\n",
    "\n",
    "print(\"Final joined DataFrame with tenant type:\")\n",
    "print(final_df.head())"
   ]
  },
  {
   "cell_type": "code",
   "execution_count": 16,
   "id": "400cf55c",
   "metadata": {},
   "outputs": [],
   "source": [
    "# Unique clusters and heating types\n",
    "\n",
    "final_df = final_df.to_pandas()\n",
    "final_df['tenant type'] = final_df['tenant type'].astype(str)\n",
    "\n",
    "clusters = sorted(final_df['cluster'].unique())\n",
    "tenant_types = final_df['tenant type'].unique()\n",
    "\n",
    "counts = {tn: [] for tn in tenant_types}\n",
    "\n",
    "for cl in clusters:\n",
    "    cluster_subset = final_df[final_df['cluster'] == cl]\n",
    "    for tn in tenant_types:\n",
    "        count_tn = sum(cluster_subset['tenant type'] == tn)\n",
    "        counts[tn].append(count_tn)\n",
    "\n",
    "# Now, each counts[tn] list should have length == len(clusters)\n",
    "\n",
    "# Build DataFrame for plotting\n",
    "\n"
   ]
  },
  {
   "cell_type": "code",
   "execution_count": 17,
   "id": "168b28a2",
   "metadata": {},
   "outputs": [
    {
     "data": {
      "image/png": "[encoded data removed]",
      "text/plain": [
       "<Figure size 1200x700 with 1 Axes>"
      ]
     },
     "metadata": {},
     "output_type": "display_data"
    }
   ],
   "source": [
    "\n",
    "count_df = pd.DataFrame(counts, index=clusters)\n",
    "\n",
    "count_df.plot(kind='bar', stacked=False, figsize=(12, 7))\n",
    "plt.title(\"Number of Different Tenant Types per Cluster\")\n",
    "plt.xlabel(\"Cluster\")\n",
    "plt.ylabel(\"Count\")\n",
    "#plt.legend(title=\"Heating Type\")\n",
    "plt.xticks(rotation=0)\n",
    "plt.tight_layout()\n",
    "plt.show()\n",
    "\n"
   ]
  },
  {
   "cell_type": "code",
   "execution_count": null,
   "id": "52e207d1",
   "metadata": {},
   "outputs": [],
   "source": []
  },
  {
   "cell_type": "code",
   "execution_count": null,
   "id": "075f7b3c",
   "metadata": {},
   "outputs": [],
   "source": []
  }
 ],
 "metadata": {
  "kernelspec": {
   "display_name": "MLDA",
   "language": "python",
   "name": "python3"
  },
  "language_info": {
   "codemirror_mode": {
    "name": "ipython",
    "version": 3
   },
   "file_extension": ".py",
   "mimetype": "text/x-python",
   "name": "python",
   "nbconvert_exporter": "python",
   "pygments_lexer": "ipython3",
   "version": "3.12.11"
  }
 },
 "nbformat": 4,
 "nbformat_minor": 5
}
