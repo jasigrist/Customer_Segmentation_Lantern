{
 "cells": [
  {
   "cell_type": "markdown",
   "id": "f1440ca7",
   "metadata": {},
   "source": [
    "## Parameter optimization for KMeans Clustering of daily consumption patterns"
   ]
  },
  {
   "cell_type": "code",
   "execution_count": 14,
   "id": "8ab7773e",
   "metadata": {},
   "outputs": [],
   "source": [
    "import polars as pl\n",
    "import glob\n",
    "import numpy as np\n",
    "import os\n",
    "import logging\n",
    "from pathlib import Path\n",
    "import re\n",
    "\n",
    "from sklearn.cluster import KMeans\n",
    "from sklearn.metrics import silhouette_score, davies_bouldin_score\n",
    "import pandas as pd\n",
    "\n",
    "logging.getLogger('matplotlib.font_manager').disabled = True\n",
    "from validation import validation"
   ]
  },
  {
   "cell_type": "code",
   "execution_count": 15,
   "id": "5cd49a6b",
   "metadata": {},
   "outputs": [
    {
     "name": "stdout",
     "output_type": "stream",
     "text": [
      "Shape of the 3D array: (1464, 96, 1)\n",
      "['CH1018601234500000000000000040851', 'CH1018601234500000000000000047828', 'CH1018601234500000000000000112970', 'CH1018601234500000000000000076787', 'CH1018601234500000000000000067786', 'CH1018601234500000000000000036798', 'CH1018601234500000000000000065363', 'CH1018601234500000000000000065862', 'CH1018601234500000000000000024655', 'CH1018601234500000000000000070197']\n"
     ]
    }
   ],
   "source": [
    "input_folder = Path(\"/Users/jansigrist/Documents/SP/Customer_Segmentation_Lantern/DATA/SM_DATA_hourlyAveraged_normalized\")\n",
    "\n",
    "pattern = str(input_folder / \"*CH*.csv\")\n",
    "file_paths = glob.glob(pattern)\n",
    "\n",
    "n_timestamps = 96\n",
    "\n",
    "data_list = []\n",
    "filename_list = []\n",
    "\n",
    "pattern = re.compile(r\"(CH[^_\\.]*)\")  # Matches 'CH' followed by any chars except _ or .\n",
    "\n",
    "for idx, file_path in enumerate(file_paths):\n",
    "    df = pl.read_csv(file_path)\n",
    "    if len(df) == n_timestamps:\n",
    "        values_array = df[\"day_avg_bruttolastgang_kwh\"].to_numpy().reshape((1, n_timestamps, 1))\n",
    "        data_list.append(values_array)\n",
    "        \n",
    "        base = os.path.basename(file_path)\n",
    "        match = pattern.search(base)\n",
    "        if match:\n",
    "            filename_list.append(match.group(1))\n",
    "        else:\n",
    "            filename_list.append(base)  # fallback to full basename if no CH... found\n",
    "\n",
    "if data_list:\n",
    "    data_3d = np.concatenate(data_list, axis=0)\n",
    "    print(f\"Shape of the 3D array: {data_3d.shape}\")\n",
    "\n",
    "print(filename_list[:10])  # Preview first 10 extracted CH... names\n",
    "\n",
    "train_data = data_3d"
   ]
  },
  {
   "cell_type": "code",
   "execution_count": 16,
   "id": "887ecb5b",
   "metadata": {},
   "outputs": [
    {
     "name": "stdout",
     "output_type": "stream",
     "text": [
      "    n_clusters       init  n_init  max_iter  silhouette_score  db_score\n",
      "0            2  k-means++       1       300          0.273257  1.478848\n",
      "6            2     random       1       300          0.273257  1.478848\n",
      "7            2     random       1       500          0.273257  1.478848\n",
      "1            2  k-means++       1       500          0.273257  1.478848\n",
      "2            2  k-means++      10       300          0.265305  1.493376\n",
      "..         ...        ...     ...       ...               ...       ...\n",
      "74           8  k-means++      10       300          0.152178  1.636045\n",
      "60           7  k-means++       1       300          0.150264  1.617732\n",
      "61           7  k-means++       1       500          0.150264  1.617732\n",
      "72           8  k-means++       1       300          0.148199  1.687143\n",
      "73           8  k-means++       1       500          0.148199  1.687143\n",
      "\n",
      "[84 rows x 6 columns]\n"
     ]
    }
   ],
   "source": [
    "# Your data: numpy array of shape (n_samples, n_features)\n",
    "X = train_data.squeeze()  # Adjust if 3D is (n_samples, n_timestamps, 1)\n",
    "\n",
    "# Define grid of hyperparameters\n",
    "param_grid = {\n",
    "    'n_clusters': [2, 3, 4, 5, 6, 7, 8],\n",
    "    'init': ['k-means++', 'random'],\n",
    "    'n_init': [1, 10, 20],\n",
    "    'max_iter': [300, 500]\n",
    "}\n",
    "\n",
    "import itertools\n",
    "results = []\n",
    "\n",
    "# Cartesian product of parameters\n",
    "for n_clusters, init, n_init, max_iter in itertools.product(\n",
    "    param_grid['n_clusters'],\n",
    "    param_grid['init'],\n",
    "    param_grid['n_init'],\n",
    "    param_grid['max_iter']\n",
    "):\n",
    "    kmeans = KMeans(\n",
    "        n_clusters=n_clusters,\n",
    "        init=init,\n",
    "        n_init=n_init,\n",
    "        max_iter=max_iter,\n",
    "        random_state=42\n",
    "    )\n",
    "    labels = kmeans.fit_predict(X)\n",
    "    # Calculate scores only if more than 1 cluster\n",
    "    if len(set(labels)) > 1:\n",
    "        sil_score = silhouette_score(X, labels)\n",
    "        db_score = davies_bouldin_score(X, labels)\n",
    "        results.append({\n",
    "            'n_clusters': n_clusters,\n",
    "            'init': init,\n",
    "            'n_init': n_init,\n",
    "            'max_iter': max_iter,\n",
    "            'silhouette_score': sil_score,\n",
    "            'db_score': db_score\n",
    "        })\n",
    "\n",
    "# Results as a DataFrame, sorted by silhouette score (descending)\n",
    "results_df = pd.DataFrame(results).sort_values(by='silhouette_score', ascending=False)\n",
    "print(results_df)"
   ]
  },
  {
   "cell_type": "code",
   "execution_count": 17,
   "id": "ec8e361c",
   "metadata": {},
   "outputs": [
    {
     "name": "stdout",
     "output_type": "stream",
     "text": [
      "     n_clusters       init  n_init  max_iter  silhouette_score  db_score\n",
      "0             3  k-means++       1       100          0.227933  1.460515\n",
      "2             3  k-means++       1       300          0.227933  1.460515\n",
      "3             3  k-means++       1       500          0.227933  1.460515\n",
      "1             3  k-means++       1       200          0.227933  1.460515\n",
      "31            3     random      10       500          0.227806  1.461160\n",
      "..          ...        ...     ...       ...               ...       ...\n",
      "160           7  k-means++       1       100          0.150264  1.617732\n",
      "201           8  k-means++       1       200          0.148199  1.687143\n",
      "203           8  k-means++       1       500          0.148199  1.687143\n",
      "202           8  k-means++       1       300          0.148199  1.687143\n",
      "200           8  k-means++       1       100          0.148199  1.687143\n",
      "\n",
      "[240 rows x 6 columns]\n",
      "\n",
      "Best combination of hyperparameters:\n",
      "n_clusters                  3\n",
      "init                k-means++\n",
      "n_init                      1\n",
      "max_iter                  100\n",
      "silhouette_score     0.227933\n",
      "db_score             1.460515\n",
      "Name: 0, dtype: object\n"
     ]
    }
   ],
   "source": [
    "X = train_data.squeeze()  # adjust shape if needed\n",
    "\n",
    "param_grid = {\n",
    "    'n_clusters': [3, 4, 5, 6, 7, 8],\n",
    "    'init': ['k-means++', 'random'],\n",
    "    'n_init': [1, 5, 10, 15, 20],\n",
    "    'max_iter': [100,  200, 300, 500]\n",
    "}\n",
    "\n",
    "results = []\n",
    "\n",
    "for n_clusters, init, n_init, max_iter in itertools.product(\n",
    "    param_grid['n_clusters'],\n",
    "    param_grid['init'],\n",
    "    param_grid['n_init'],\n",
    "    param_grid['max_iter']\n",
    "):\n",
    "    kmeans = KMeans(\n",
    "        n_clusters=n_clusters,\n",
    "        init=init,\n",
    "        n_init=n_init,\n",
    "        max_iter=max_iter,\n",
    "        random_state=42\n",
    "    )\n",
    "    labels = kmeans.fit_predict(X)\n",
    "    if len(set(labels)) > 1:\n",
    "        sil_score = silhouette_score(X, labels)\n",
    "        db_score = davies_bouldin_score(X, labels)\n",
    "        results.append({\n",
    "            'n_clusters': n_clusters,\n",
    "            'init': init,\n",
    "            'n_init': n_init,\n",
    "            'max_iter': max_iter,\n",
    "            'silhouette_score': sil_score,\n",
    "            'db_score': db_score\n",
    "        })\n",
    "\n",
    "results_df = pd.DataFrame(results).sort_values(by='silhouette_score', ascending=False)\n",
    "print(results_df)\n",
    "\n",
    "# Output best combination (highest silhouette score)\n",
    "best_result = results_df.iloc[0]\n",
    "print(\"\\nBest combination of hyperparameters:\")\n",
    "print(best_result)"
   ]
  },
  {
   "cell_type": "code",
   "execution_count": 18,
   "id": "bb357caa",
   "metadata": {},
   "outputs": [
    {
     "data": {
      "image/png": "[encoded data removed]",
      "text/plain": [
       "<Figure size 600x400 with 1 Axes>"
      ]
     },
     "metadata": {},
     "output_type": "display_data"
    }
   ],
   "source": [
    "validation(train_data)"
   ]
  },
  {
   "cell_type": "code",
   "execution_count": null,
   "id": "bbaa16e7",
   "metadata": {},
   "outputs": [],
   "source": []
  }
 ],
 "metadata": {
  "kernelspec": {
   "display_name": "MLDA",
   "language": "python",
   "name": "python3"
  },
  "language_info": {
   "codemirror_mode": {
    "name": "ipython",
    "version": 3
   },
   "file_extension": ".py",
   "mimetype": "text/x-python",
   "name": "python",
   "nbconvert_exporter": "python",
   "pygments_lexer": "ipython3",
   "version": "3.12.11"
  }
 },
 "nbformat": 4,
 "nbformat_minor": 5
}
